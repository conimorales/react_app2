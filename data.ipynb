{
 "cells": [
  {
   "attachments": {},
   "cell_type": "markdown",
   "metadata": {},
   "source": [
    "- npm i -g create-react-app\n",
    "- npm i --global create-react-app\n",
    "\n",
    "- create-react-app app (nombre app)\n",
    "\n",
    "- npm start (ingresar a la app con cd)"
   ]
  }
 ],
 "metadata": {
  "kernelspec": {
   "display_name": "Python 3",
   "language": "python",
   "name": "python3"
  },
  "language_info": {
   "name": "python",
   "version": "3.10.9 (tags/v3.10.9:1dd9be6, Dec  6 2022, 20:01:21) [MSC v.1934 64 bit (AMD64)]"
  },
  "orig_nbformat": 4,
  "vscode": {
   "interpreter": {
    "hash": "97ed0b760e739aa1f0d98476dd5300c1b5c97c38211511db4d8080d8da430568"
   }
  }
 },
 "nbformat": 4,
 "nbformat_minor": 2
}
